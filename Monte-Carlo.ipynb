{
 "cells": [
  {
   "cell_type": "markdown",
   "id": "1dc5aa28-1c74-4cd9-87d4-757fb56f65ff",
   "metadata": {},
   "source": [
    "# Постановка задачи"
   ]
  },
  {
   "cell_type": "raw",
   "id": "65bec230-5112-48a4-92a4-3748e922de80",
   "metadata": {},
   "source": [
    "Вычислить с помощью методов Монте-Карло и с использованием способов понижения дисперсии (если это возможно) интегралы:\n",
    "∫{0,1}[exp⁡(x)dx] и ∫{0,π⁄2}[sin⁡(x)dx]\n",
    "Сравнить результаты вычислений со значениями, полученными по формулам численного интегрирования."
   ]
  },
  {
   "cell_type": "code",
   "execution_count": 1,
   "id": "8c33ae00-4013-499f-b181-cf75e6574e39",
   "metadata": {
    "tags": []
   },
   "outputs": [],
   "source": [
    "import matplotlib.pyplot as plt\n",
    "import numpy as np\n",
    "from sympy import symbols, init_printing, integrate, exp, sin\n",
    "import math\n",
    "import random"
   ]
  },
  {
   "cell_type": "code",
   "execution_count": 60,
   "id": "1c8954ae-4da3-4275-80b7-313fcc1a6955",
   "metadata": {
    "tags": []
   },
   "outputs": [],
   "source": [
    "# Зафиксируем ядро рандомайзера, сохранив в памяти 10000 различных состояний RAM\n",
    "\n",
    "random.seed()\n",
    "rand_states = []\n",
    "rand_states_ = []\n",
    "for i in range(0,10000):\n",
    "    r_s = random.getstate()\n",
    "    rand_states.append(r_s)\n",
    "    random.random()\n",
    "    r_s = random.getstate()\n",
    "    rand_states_.append(r_s)\n",
    "    random.random()"
   ]
  },
  {
   "cell_type": "markdown",
   "id": "bc90f660-3fd8-4066-8b00-6bc0de353e99",
   "metadata": {
    "tags": []
   },
   "source": [
    "# Первый интеграл"
   ]
  },
  {
   "cell_type": "code",
   "execution_count": 2,
   "id": "04e41e6b-3c4b-48ca-8e77-a7b9cd85b141",
   "metadata": {
    "tags": []
   },
   "outputs": [
    {
     "data": {
      "image/png": "[encoded data removed]",
      "text/latex": [
       "$\\displaystyle e^{t}$"
      ],
      "text/plain": [
       " t\n",
       "e "
      ]
     },
     "execution_count": 2,
     "metadata": {},
     "output_type": "execute_result"
    }
   ],
   "source": [
    "# Получим значение первого интеграла аналитически:\n",
    "t = symbols('t')\n",
    "init_printing(use_unicode=False)\n",
    "integrate(exp(t),t)"
   ]
  },
  {
   "cell_type": "code",
   "execution_count": 3,
   "id": "c5c614a5-7994-41d8-884c-dd583829285e",
   "metadata": {
    "tags": []
   },
   "outputs": [],
   "source": [
    "# Неопределенный интеграл:\n",
    "def I1(x):\n",
    "    return math.exp(x)"
   ]
  },
  {
   "cell_type": "code",
   "execution_count": 4,
   "id": "b64dd8b2-6e46-476e-8c8e-5b82deed4911",
   "metadata": {
    "tags": []
   },
   "outputs": [
    {
     "data": {
      "image/png": "[encoded data removed]",
      "text/latex": [
       "$\\displaystyle 1.71828182845905$"
      ],
      "text/plain": [
       "1.718281828459045"
      ]
     },
     "execution_count": 4,
     "metadata": {},
     "output_type": "execute_result"
    }
   ],
   "source": [
    "# Определенный интеграл:\n",
    "I_1 = I1(1) - I1(0)\n",
    "I_1"
   ]
  },
  {
   "cell_type": "code",
   "execution_count": 6,
   "id": "883bbaa9-0f55-4d90-b4f8-f4915342f5c7",
   "metadata": {
    "tags": []
   },
   "outputs": [],
   "source": [
    "def f1(x):\n",
    "    return math.exp(x)"
   ]
  },
  {
   "cell_type": "code",
   "execution_count": 130,
   "id": "4099e326-bc00-4828-af22-328e977d0d3f",
   "metadata": {
    "tags": []
   },
   "outputs": [],
   "source": [
    "a = 0\n",
    "b = 1\n",
    "N_ = 10, 20, 100, 200, 500, 1000, 10000"
   ]
  },
  {
   "cell_type": "markdown",
   "id": "340ccc6e-9e58-45ff-a940-4d1230bd1eb4",
   "metadata": {
    "tags": []
   },
   "source": [
    "## Метод, основанный на вычислении подынтегральной функции"
   ]
  },
  {
   "cell_type": "code",
   "execution_count": 89,
   "id": "ca889954-f2f1-4623-a1aa-44f9060dc205",
   "metadata": {
    "tags": []
   },
   "outputs": [
    {
     "name": "stdout",
     "output_type": "stream",
     "text": [
      "N = 10 : Integral = 1.482 ; Error = 0.23612\n",
      "N = 20 : Integral = 1.493 ; Error = 0.22575\n",
      "N = 100 : Integral = 1.65 ; Error = 0.06817\n",
      "N = 200 : Integral = 1.68 ; Error = 0.03813\n",
      "N = 500 : Integral = 1.728 ; Error = -0.00931\n",
      "N = 1000 : Integral = 1.718 ; Error = 0.00065\n",
      "N = 10000 : Integral = 1.714 ; Error = 0.00442\n"
     ]
    }
   ],
   "source": [
    "for N in N_:\n",
    "    f_sum = np.zeros(N)\n",
    "    for i in range(0,N):\n",
    "        random.setstate(rand_states[i])\n",
    "        ksi = random.random()\n",
    "        f_sum[i] = f1(ksi)\n",
    "    S = (b-a)*f_sum.mean()\n",
    "    print('N =',N, ': Integral =', round(S,3), '; Error =', round(I_1-S,5))"
   ]
  },
  {
   "cell_type": "markdown",
   "id": "c84fa9d9-4caa-445e-8cb3-e683a3cb4876",
   "metadata": {
    "tags": []
   },
   "source": [
    "### Понижение дисперсии"
   ]
  },
  {
   "cell_type": "markdown",
   "id": "ef9853fb-74fb-4865-b072-d60e0d99a058",
   "metadata": {},
   "source": [
    "#### С помощью выделения главной части"
   ]
  },
  {
   "cell_type": "raw",
   "id": "36ec57a3-1725-4967-ae3a-c7ab8c8234a8",
   "metadata": {},
   "source": [
    "В качестве приближающей функции возьмем первые два слагаемых разложения функции f(x) в ряд Тейлора\n",
    "g(x) = 1 + x"
   ]
  },
  {
   "cell_type": "code",
   "execution_count": 14,
   "id": "e0206292-0af0-4706-bd64-0e2e3ff618fb",
   "metadata": {
    "tags": []
   },
   "outputs": [
    {
     "data": {
      "image/png": "[encoded data removed]",
      "text/latex": [
       "$\\displaystyle \\frac{3}{2}$"
      ],
      "text/plain": [
       "3/2"
      ]
     },
     "execution_count": 14,
     "metadata": {},
     "output_type": "execute_result"
    }
   ],
   "source": [
    "t = symbols('t')\n",
    "init_printing(use_unicode=False)\n",
    "integrate(1+t,(t,0,1))"
   ]
  },
  {
   "cell_type": "code",
   "execution_count": 101,
   "id": "662c8e70-29f0-40f8-9e99-7ab28113f8c1",
   "metadata": {
    "tags": []
   },
   "outputs": [],
   "source": [
    "J_1 = 1.5"
   ]
  },
  {
   "cell_type": "code",
   "execution_count": 15,
   "id": "f54be10a-957a-4515-8edb-3f8de8b956bc",
   "metadata": {
    "tags": []
   },
   "outputs": [],
   "source": [
    "def g1(x):\n",
    "    return 1 + x"
   ]
  },
  {
   "cell_type": "code",
   "execution_count": 102,
   "id": "323e6343-14ad-4929-bbbb-15e323e635ff",
   "metadata": {
    "tags": []
   },
   "outputs": [
    {
     "name": "stdout",
     "output_type": "stream",
     "text": [
      "N = 10 : Integral = 1.635 ; Error = 0.08347\n",
      "N = 20 : Integral = 1.634 ; Error = 0.0845\n",
      "N = 100 : Integral = 1.693 ; Error = 0.02494\n",
      "N = 200 : Integral = 1.705 ; Error = 0.01326\n",
      "N = 500 : Integral = 1.725 ; Error = -0.00675\n",
      "N = 1000 : Integral = 1.719 ; Error = -0.00068\n",
      "N = 10000 : Integral = 1.717 ; Error = 0.00151\n"
     ]
    }
   ],
   "source": [
    "for N in N_:\n",
    "    fg_sum = np.zeros(N)\n",
    "    for i in range(0,N):\n",
    "        random.setstate(rand_states[i])\n",
    "        ksi = random.random()\n",
    "        fg_sum[i] = f1(ksi) - g1(ksi)\n",
    "    S = (b-a)*fg_sum.mean() + J_1\n",
    "    print('N =',N, ': Integral =', round(S,3), '; Error =', round(I_1-S,5))"
   ]
  },
  {
   "cell_type": "markdown",
   "id": "84a08640-7a13-4324-9844-994310facfb9",
   "metadata": {
    "tags": []
   },
   "source": [
    "#### С помощью существенной выборки"
   ]
  },
  {
   "cell_type": "raw",
   "id": "aef31b25-dc2a-419e-9ef1-a817b7ba460e",
   "metadata": {},
   "source": [
    "Плотность распределения 2(1+x)/3"
   ]
  },
  {
   "cell_type": "code",
   "execution_count": 110,
   "id": "4d91ab3f-3639-4ea3-a891-decd0847209c",
   "metadata": {
    "tags": []
   },
   "outputs": [
    {
     "name": "stdout",
     "output_type": "stream",
     "text": [
      "N = 10 : Integral = 1.614 ; Error = 0.10405\n",
      "N = 20 : Integral = 1.617 ; Error = 0.10095\n",
      "N = 100 : Integral = 1.667 ; Error = 0.0512\n",
      "N = 200 : Integral = 1.677 ; Error = 0.04167\n",
      "N = 500 : Integral = 1.692 ; Error = 0.02611\n",
      "N = 1000 : Integral = 1.688 ; Error = 0.02994\n",
      "N = 10000 : Integral = 1.687 ; Error = 0.03152\n"
     ]
    }
   ],
   "source": [
    "for N in N_:\n",
    "    fg_sum = np.zeros(N)\n",
    "    for i in range(0,N):\n",
    "        random.setstate(rand_states[i])\n",
    "        ksi = random.random()\n",
    "        fg_sum[i] = f1(ksi)/(1+ksi)\n",
    "    S = 3*fg_sum.mean()/2\n",
    "    print('N =',N, ': Integral =', round(S,3), '; Error =', round(I_1-S,5))"
   ]
  },
  {
   "cell_type": "markdown",
   "id": "26c3a516-a5dd-4a76-ac23-25dcf7f81156",
   "metadata": {
    "tags": []
   },
   "source": [
    "#### С помощью симметризации функции"
   ]
  },
  {
   "cell_type": "code",
   "execution_count": 78,
   "id": "4fc2ad3f-0a3d-47c6-ad19-eae4f1b7f49b",
   "metadata": {},
   "outputs": [
    {
     "data": {
      "image/png": "[encoded data removed]",
      "text/plain": [
       "<Figure size 640x480 with 1 Axes>"
      ]
     },
     "metadata": {},
     "output_type": "display_data"
    }
   ],
   "source": [
    "x = np.zeros(10000)\n",
    "f1_ = np.zeros(10000)\n",
    "f1_inv = np.zeros(10000)\n",
    "g1_ = np.zeros(10000)\n",
    "for i in range(0,10000):\n",
    "    x[i] = i/10000\n",
    "    f1_[i] = f1(x[i])\n",
    "    f1_inv[i] = f1(1-x[i])\n",
    "    g1_[i] = 0.5 * (f1_[i] + f1_inv[i])\n",
    "\n",
    "plt.figure()\n",
    "plt.plot(x, f1_, label='$f$ (x)')\n",
    "plt.plot(x, f1_inv, label='$f$ (1-x)')\n",
    "plt.plot(x, g1_, label='$g$ (x) = 0.5 [$f$ (x) + $f$ (1-x)]')\n",
    "plt.grid()\n",
    "plt.legend()\n",
    "plt.xlabel('$x$')\n",
    "plt.ylabel('$f$ $(x)$')\n",
    "plt.vlines(x = 0, ymin=1, ymax=math.e, linestyles='dashed')\n",
    "plt.vlines(x = 1, ymin=1, ymax=math.e, linestyles='dashed')\n",
    "figname = 'sym1.png'\n",
    "plt.savefig(figname)"
   ]
  },
  {
   "cell_type": "code",
   "execution_count": 90,
   "id": "0614b5d6-017d-41cc-8eb3-dd4d7dbe1150",
   "metadata": {},
   "outputs": [
    {
     "name": "stdout",
     "output_type": "stream",
     "text": [
      "N = 10 : Integral = 1.736 ; Error = -0.01765\n",
      "N = 20 : Integral = 1.73 ; Error = -0.01124\n",
      "N = 100 : Integral = 1.723 ; Error = -0.00454\n",
      "N = 200 : Integral = 1.722 ; Error = -0.00368\n",
      "N = 500 : Integral = 1.723 ; Error = -0.00481\n",
      "N = 1000 : Integral = 1.72 ; Error = -0.00169\n",
      "N = 10000 : Integral = 1.719 ; Error = -0.00047\n"
     ]
    }
   ],
   "source": [
    "for N in N_:\n",
    "    g_sum = np.zeros(N)\n",
    "    for i in range(0,N):\n",
    "        random.setstate(rand_states[i])\n",
    "        ksi = random.random()\n",
    "        g_sum[i] = 0.5 * (f1(ksi) + f1(1-ksi))\n",
    "    S = (b-a)*g_sum.mean()\n",
    "    print('N =',N, ': Integral =', round(S,3), '; Error =', round(I_1-S,5))"
   ]
  },
  {
   "cell_type": "markdown",
   "id": "b7ff63e4-1d25-4a9a-9e2a-99f2d0d46274",
   "metadata": {
    "tags": []
   },
   "source": [
    "## Метод, основанный на вычислении площади"
   ]
  },
  {
   "cell_type": "code",
   "execution_count": 134,
   "id": "6a1fa712-7a43-4275-a4a3-4d467a46ea8a",
   "metadata": {
    "tags": []
   },
   "outputs": [
    {
     "name": "stdout",
     "output_type": "stream",
     "text": [
      "N = 10 : Integral = 1.4 ; Error = 0.31828\n",
      "N = 20 : Integral = 1.4 ; Error = 0.31828\n",
      "N = 100 : Integral = 1.62 ; Error = 0.09828\n",
      "N = 200 : Integral = 1.6 ; Error = 0.11828\n",
      "N = 500 : Integral = 1.604 ; Error = 0.11428\n",
      "N = 1000 : Integral = 1.59 ; Error = 0.12828\n",
      "N = 10000 : Integral = 1.607 ; Error = 0.11168\n"
     ]
    }
   ],
   "source": [
    "c = 2\n",
    "for N in N_:\n",
    "    n = 0\n",
    "    for i in range(0,N):\n",
    "        random.setstate(rand_states[i])\n",
    "        ksi = random.random()\n",
    "        random.setstate(rand_states_[i])\n",
    "        eta = random.uniform(0,c)\n",
    "        if eta < f1(ksi):\n",
    "            n += 1\n",
    "    S = c*(b-a)*n/N\n",
    "    print('N =',N, ': Integral =', round(S,3), '; Error =', round(I_1-S,5))"
   ]
  },
  {
   "cell_type": "markdown",
   "id": "40b426d6-fb7d-4078-bf23-16ba21636c4e",
   "metadata": {
    "tags": []
   },
   "source": [
    "### Понижение дисперсии"
   ]
  },
  {
   "cell_type": "markdown",
   "id": "4a538bb6-1859-4c21-b275-d4c8631250fc",
   "metadata": {},
   "source": [
    "#### С помощью симметризации функции"
   ]
  },
  {
   "cell_type": "code",
   "execution_count": 135,
   "id": "f4ef52d7-d1bf-41eb-ae91-6caf5f774144",
   "metadata": {
    "tags": []
   },
   "outputs": [
    {
     "name": "stdout",
     "output_type": "stream",
     "text": [
      "N = 10 : Integral = 1.6 ; Error = 0.11828\n",
      "N = 20 : Integral = 1.7 ; Error = 0.01828\n",
      "N = 100 : Integral = 1.76 ; Error = -0.04172\n",
      "N = 200 : Integral = 1.74 ; Error = -0.02172\n",
      "N = 500 : Integral = 1.736 ; Error = -0.01772\n",
      "N = 1000 : Integral = 1.702 ; Error = 0.01628\n",
      "N = 10000 : Integral = 1.707 ; Error = 0.01148\n"
     ]
    }
   ],
   "source": [
    "for N in N_:\n",
    "    n = 0\n",
    "    for i in range(0,N):\n",
    "        random.setstate(rand_states[i])\n",
    "        ksi = random.random()\n",
    "        random.setstate(rand_states_[i])\n",
    "        eta = random.uniform(0,c)\n",
    "        g = 0.5 * (f1(ksi) + f1(1-ksi))\n",
    "        if eta < g:\n",
    "            n += 1\n",
    "    S = c*(b-a)*n/N\n",
    "    print('N =',N, ': Integral =', round(S,3), '; Error =', round(I_1-S,5))"
   ]
  },
  {
   "cell_type": "markdown",
   "id": "23e11f45-ce2f-4151-a065-a7285d259742",
   "metadata": {
    "tags": []
   },
   "source": [
    "# Второй интеграл"
   ]
  },
  {
   "cell_type": "code",
   "execution_count": 91,
   "id": "9838ee1c-1103-4bbb-85db-06c2fb9efbf6",
   "metadata": {
    "tags": []
   },
   "outputs": [
    {
     "data": {
      "image/png": "[encoded data removed]",
      "text/latex": [
       "$\\displaystyle - \\cos{\\left(t \\right)}$"
      ],
      "text/plain": [
       "-cos(t)"
      ]
     },
     "execution_count": 91,
     "metadata": {},
     "output_type": "execute_result"
    }
   ],
   "source": [
    "# Получим значение второго интеграла аналитически:\n",
    "t = symbols('t')\n",
    "init_printing(use_unicode=False)\n",
    "integrate(sin(t),t)"
   ]
  },
  {
   "cell_type": "code",
   "execution_count": 92,
   "id": "78a2abe8-a140-46de-b6b7-f1ffe8ea62d1",
   "metadata": {
    "tags": []
   },
   "outputs": [],
   "source": [
    "# Неопределенный интеграл:\n",
    "def I2(x):\n",
    "    return -1*math.cos(x)"
   ]
  },
  {
   "cell_type": "code",
   "execution_count": 93,
   "id": "95f2dea6-9c43-4b01-b783-42fdd7ecbc07",
   "metadata": {
    "tags": []
   },
   "outputs": [
    {
     "data": {
      "image/png": "[encoded data removed]",
      "text/latex": [
       "$\\displaystyle 1.0$"
      ],
      "text/plain": [
       "0.9999999999999999"
      ]
     },
     "execution_count": 93,
     "metadata": {},
     "output_type": "execute_result"
    }
   ],
   "source": [
    "# Определенный интеграл:\n",
    "I_2 = I2(math.pi/2) - I2(0)\n",
    "I_2"
   ]
  },
  {
   "cell_type": "code",
   "execution_count": 94,
   "id": "2f62efdb-c208-4ac3-b924-6b9217db79dc",
   "metadata": {},
   "outputs": [],
   "source": [
    "def f2(x):\n",
    "    return math.sin(x)"
   ]
  },
  {
   "cell_type": "code",
   "execution_count": 124,
   "id": "f7660a66-49c5-4199-9e20-eea2499b0e2c",
   "metadata": {
    "tags": []
   },
   "outputs": [],
   "source": [
    "a = 0\n",
    "b = math.pi/2\n",
    "N_ = 10, 20, 100, 200, 500, 1000, 10000"
   ]
  },
  {
   "cell_type": "markdown",
   "id": "cfc42318-2d75-4e65-a6d0-8da7ff0f9633",
   "metadata": {
    "tags": []
   },
   "source": [
    "## Метод, основанный на вычислении подынтегральной функции"
   ]
  },
  {
   "cell_type": "code",
   "execution_count": 96,
   "id": "85789ea9-718e-4be2-9a4f-930006d5ff9a",
   "metadata": {
    "tags": []
   },
   "outputs": [
    {
     "name": "stdout",
     "output_type": "stream",
     "text": [
      "N = 10 : Integral = 0.71 ; Error = 0.28979\n",
      "N = 20 : Integral = 0.746 ; Error = 0.2541\n",
      "N = 100 : Integral = 0.921 ; Error = 0.07911\n",
      "N = 200 : Integral = 0.953 ; Error = 0.04723\n",
      "N = 500 : Integral = 0.996 ; Error = 0.00381\n",
      "N = 1000 : Integral = 0.995 ; Error = 0.00459\n",
      "N = 10000 : Integral = 0.994 ; Error = 0.00556\n"
     ]
    }
   ],
   "source": [
    "for N in N_:\n",
    "    f_sum = np.zeros(N)\n",
    "    for i in range(0,N):\n",
    "        random.setstate(rand_states[i])\n",
    "        ksi = random.uniform(0,math.pi/2)\n",
    "        f_sum[i] = f2(ksi)\n",
    "    S = (b-a)*f_sum.mean()\n",
    "    print('N =',N, ': Integral =', round(S,3), '; Error =', round(I_2-S,5))"
   ]
  },
  {
   "cell_type": "markdown",
   "id": "49013d63-12b1-4a7b-92b3-c983edbaffcc",
   "metadata": {
    "tags": []
   },
   "source": [
    "### Понижение дисперсии"
   ]
  },
  {
   "cell_type": "markdown",
   "id": "aed21aef-b9c6-4e1f-b810-a105951ce45e",
   "metadata": {
    "tags": []
   },
   "source": [
    "#### С помощью выделения главной части"
   ]
  },
  {
   "cell_type": "raw",
   "id": "7c4387f0-9726-4948-8c06-735219988608",
   "metadata": {},
   "source": [
    "В качестве приближающей функции возьмем первые два слагаемых разложения функции f(x) в ряд Тейлора\n",
    "g(x) = 1 - (x**3)/6"
   ]
  },
  {
   "cell_type": "code",
   "execution_count": 98,
   "id": "225edcf1-8f41-4d73-996e-c95334a5cb05",
   "metadata": {
    "tags": []
   },
   "outputs": [
    {
     "data": {
      "image/png": "[encoded data removed]",
      "text/latex": [
       "$\\displaystyle 1.31712681889385$"
      ],
      "text/plain": [
       "1.31712681889385"
      ]
     },
     "execution_count": 98,
     "metadata": {},
     "output_type": "execute_result"
    }
   ],
   "source": [
    "t = symbols('t')\n",
    "init_printing(use_unicode=False)\n",
    "integrate(1-(t**3)/6,(t,0,math.pi/2))"
   ]
  },
  {
   "cell_type": "code",
   "execution_count": 105,
   "id": "b9b1c33b-c390-493a-88e3-9bf94351ddfb",
   "metadata": {
    "tags": []
   },
   "outputs": [],
   "source": [
    "J_2 = 1.31712681889385"
   ]
  },
  {
   "cell_type": "code",
   "execution_count": 103,
   "id": "da8d4287-a001-434d-a4d5-8381fffb3623",
   "metadata": {
    "tags": []
   },
   "outputs": [],
   "source": [
    "def g2(x):\n",
    "    return 1 - (x**3)/6"
   ]
  },
  {
   "cell_type": "code",
   "execution_count": 119,
   "id": "55da64bb-9684-40fd-96ae-40a5bc6d1742",
   "metadata": {
    "tags": []
   },
   "outputs": [
    {
     "name": "stdout",
     "output_type": "stream",
     "text": [
      "N = 10 : Integral = 0.619 ; Error = 0.38123\n",
      "N = 20 : Integral = 0.644 ; Error = 0.35609\n",
      "N = 100 : Integral = 0.891 ; Error = 0.10897\n",
      "N = 200 : Integral = 0.938 ; Error = 0.06237\n",
      "N = 500 : Integral = 1.008 ; Error = -0.00792\n",
      "N = 1000 : Integral = 0.997 ; Error = 0.00308\n",
      "N = 10000 : Integral = 0.993 ; Error = 0.00726\n"
     ]
    }
   ],
   "source": [
    "for N in N_:\n",
    "    fg_sum = np.zeros(N)\n",
    "    for i in range(0,N):\n",
    "        random.setstate(rand_states[i])\n",
    "        ksi = random.uniform(0,math.pi/2)\n",
    "        fg_sum[i] = f2(ksi) - g2(ksi)\n",
    "    S = (b-a)*fg_sum.mean() + J_2\n",
    "    print('N =',N, ': Integral =', round(S,3), '; Error =', round(I_2-S,5))"
   ]
  },
  {
   "cell_type": "markdown",
   "id": "7e9724ec-5c11-45a9-b05f-1c586907c139",
   "metadata": {
    "tags": []
   },
   "source": [
    "#### С помощью существенной выборки"
   ]
  },
  {
   "cell_type": "raw",
   "id": "ec82927b-b6fc-4f53-99da-65d71c7a2ff3",
   "metadata": {},
   "source": [
    "Плотность распределения 8x/pi^2"
   ]
  },
  {
   "cell_type": "code",
   "execution_count": 120,
   "id": "4d4b52c6-b256-4bb1-8628-5fccde611c95",
   "metadata": {
    "tags": []
   },
   "outputs": [
    {
     "name": "stdout",
     "output_type": "stream",
     "text": [
      "N = 10 : Integral = 1.14 ; Error = -0.13963\n",
      "N = 20 : Integral = 1.137 ; Error = -0.13665\n",
      "N = 100 : Integral = 1.094 ; Error = -0.09435\n",
      "N = 200 : Integral = 1.086 ; Error = -0.08632\n",
      "N = 500 : Integral = 1.073 ; Error = -0.07316\n",
      "N = 1000 : Integral = 1.076 ; Error = -0.07635\n",
      "N = 10000 : Integral = 1.078 ; Error = -0.07772\n"
     ]
    }
   ],
   "source": [
    "for N in N_:\n",
    "    fg_sum = np.zeros(N)\n",
    "    for i in range(0,N):\n",
    "        random.setstate(rand_states[i])\n",
    "        ksi = random.uniform(0,math.pi/2)\n",
    "        fg_sum[i] = f2(ksi)/ksi\n",
    "    S = (math.pi**2)*fg_sum.mean()/8\n",
    "    print('N =',N, ': Integral =', round(S,3), '; Error =', round(I_2-S,5))"
   ]
  },
  {
   "cell_type": "markdown",
   "id": "6ab7c572-d550-48f5-b3cf-358c84b076fc",
   "metadata": {
    "tags": []
   },
   "source": [
    "#### С помощью симметризации функции"
   ]
  },
  {
   "cell_type": "code",
   "execution_count": 111,
   "id": "45e03c2e-e8de-4fa6-9fde-540408e0fc21",
   "metadata": {
    "tags": []
   },
   "outputs": [
    {
     "data": {
      "image/png": "[encoded data removed]",
      "text/plain": [
       "<Figure size 640x480 with 1 Axes>"
      ]
     },
     "metadata": {},
     "output_type": "display_data"
    }
   ],
   "source": [
    "x = np.zeros(10000)\n",
    "f2_ = np.zeros(10000)\n",
    "f2_inv = np.zeros(10000)\n",
    "g2_ = np.zeros(10000)\n",
    "for i in range(0,10000):\n",
    "    x[i] = i*math.pi/20000\n",
    "    f2_[i] = f2(x[i])\n",
    "    f2_inv[i] = f2(math.pi/2-x[i])\n",
    "    g2_[i] = 0.5 * (f2_[i] + f2_inv[i])\n",
    "\n",
    "plt.figure()\n",
    "plt.plot(x, f2_, label='$f$ (x)')\n",
    "plt.plot(x, f2_inv, label='$f$ (1-x)')\n",
    "plt.plot(x, g2_, label='$g$ (x) = 0.5 [$f$ (x) + $f$ (1-x)]')\n",
    "plt.grid()\n",
    "plt.legend()\n",
    "plt.xlabel('$x$')\n",
    "plt.ylabel('$f$ $(x)$')\n",
    "plt.vlines(x = 0, ymin=0, ymax=1, linestyles='dashed')\n",
    "plt.vlines(x = math.pi/2, ymin=0, ymax=1, linestyles='dashed')\n",
    "figname = 'sym2.png'\n",
    "plt.savefig(figname)"
   ]
  },
  {
   "cell_type": "code",
   "execution_count": 125,
   "id": "e5631ebb-e627-4572-b5a9-50dc35decb50",
   "metadata": {},
   "outputs": [
    {
     "name": "stdout",
     "output_type": "stream",
     "text": [
      "N = 10 : Integral = 0.971 ; Error = 0.02897\n",
      "N = 20 : Integral = 0.982 ; Error = 0.01815\n",
      "N = 100 : Integral = 0.993 ; Error = 0.00734\n",
      "N = 200 : Integral = 0.994 ; Error = 0.00586\n",
      "N = 500 : Integral = 0.992 ; Error = 0.00755\n",
      "N = 1000 : Integral = 0.997 ; Error = 0.00263\n",
      "N = 10000 : Integral = 0.999 ; Error = 0.00071\n"
     ]
    }
   ],
   "source": [
    "for N in N_:\n",
    "    g_sum = np.zeros(N)\n",
    "    for i in range(0,N):\n",
    "        random.setstate(rand_states[i])\n",
    "        ksi = random.uniform(0,math.pi/2)\n",
    "        g_sum[i] = 0.5 * (f2(ksi) + f2(b-ksi))\n",
    "    S = (b-a)*g_sum.mean()\n",
    "    print('N =',N, ': Integral =', round(S,3), '; Error =', round(I_2-S,5))"
   ]
  },
  {
   "cell_type": "markdown",
   "id": "a5cc95e1-678e-4a9f-a064-976161998f28",
   "metadata": {},
   "source": [
    "## Метод, основанный на вычислении площади"
   ]
  },
  {
   "cell_type": "code",
   "execution_count": 127,
   "id": "2637ed8d-b4b3-4cd9-9390-c058a0bc9579",
   "metadata": {
    "tags": []
   },
   "outputs": [
    {
     "name": "stdout",
     "output_type": "stream",
     "text": [
      "N = 10 : Integral = 0.628 ; Error = 0.37168\n",
      "N = 20 : Integral = 0.785 ; Error = 0.2146\n",
      "N = 100 : Integral = 0.974 ; Error = 0.02611\n",
      "N = 200 : Integral = 0.966 ; Error = 0.03396\n",
      "N = 500 : Integral = 1.024 ; Error = -0.02416\n",
      "N = 1000 : Integral = 0.991 ; Error = 0.00883\n",
      "N = 10000 : Integral = 0.99 ; Error = 0.01024\n"
     ]
    }
   ],
   "source": [
    "c = 1\n",
    "for N in N_:\n",
    "    n = 0\n",
    "    for i in range(0,N):\n",
    "        random.setstate(rand_states[i])\n",
    "        ksi = random.uniform(0,math.pi/2)\n",
    "        random.setstate(rand_states_[i])\n",
    "        eta = random.uniform(0,c)\n",
    "        if eta < f2(ksi):\n",
    "            n += 1\n",
    "    S = c*(b-a)*n/N\n",
    "    print('N =',N, ': Integral =', round(S,3), '; Error =', round(I_2-S,5))"
   ]
  },
  {
   "cell_type": "markdown",
   "id": "8e3e2afb-877b-4fb2-8468-a799426e6f90",
   "metadata": {},
   "source": [
    "### Понижение дисперсии"
   ]
  },
  {
   "cell_type": "markdown",
   "id": "ca8061aa-ae60-4b84-9ade-f63f71c5bc34",
   "metadata": {
    "tags": []
   },
   "source": [
    "#### С помощью симметризации функции"
   ]
  },
  {
   "cell_type": "code",
   "execution_count": 129,
   "id": "6b28f87e-4672-4710-b2cc-a2f135976bec",
   "metadata": {
    "tags": []
   },
   "outputs": [
    {
     "name": "stdout",
     "output_type": "stream",
     "text": [
      "N = 10 : Integral = 0.942 ; Error = 0.05752\n",
      "N = 20 : Integral = 0.942 ; Error = 0.05752\n",
      "N = 100 : Integral = 1.052 ; Error = -0.05243\n",
      "N = 200 : Integral = 0.974 ; Error = 0.02611\n",
      "N = 500 : Integral = 0.977 ; Error = 0.02296\n",
      "N = 1000 : Integral = 0.96 ; Error = 0.04024\n",
      "N = 10000 : Integral = 0.996 ; Error = 0.00364\n"
     ]
    }
   ],
   "source": [
    "for N in N_:\n",
    "    n = 0\n",
    "    for i in range(0,N):\n",
    "        random.setstate(rand_states[i])\n",
    "        ksi = random.uniform(0,math.pi/2)\n",
    "        random.setstate(rand_states_[i])\n",
    "        eta = random.uniform(0,c)\n",
    "        g = 0.5 * (f2(ksi) + f2(b-ksi))\n",
    "        if eta < g:\n",
    "            n += 1\n",
    "    S = c*(b-a)*n/N\n",
    "    print('N =',N, ': Integral =', round(S,3), '; Error =', round(I_2-S,5))"
   ]
  },
  {
   "cell_type": "markdown",
   "id": "c3f1f5b1-b8f8-4d09-b211-e68a4cb1ef70",
   "metadata": {
    "tags": []
   },
   "source": [
    "# Выводы"
   ]
  },
  {
   "cell_type": "raw",
   "id": "9a99cae7-7e37-4f24-8ac5-20ace5a4471e",
   "metadata": {},
   "source": [
    "При увеличении количества испытаний точность вычисления определенного интеграла в общем случае возрастает.\n",
    "Поскольку метод Монте-Карло построен на использовании случайных величин, данные вычисления не являются повторяемыми, т.е. при каждом запуске программы получаемые значения будут отличаться. Для контроля качества приемов уменьшения дисперсии необходимо добиться повторяемости результатов – это можно сделать, зафиксировав начальные данные, подаваемые на вход рандомайзера.\n",
    "Использование приемов понижения дисперсии позволяет существенно повысить точность вычислений. Наиболее точным оказался прием симметризации функции. Выделение главной части при вычислении второго интеграла уменьшило точность, что свидетельствует о том, что двух слагаемых при разложении функции в ряд Тейлора оказалось недостаточно."
   ]
  }
 ],
 "metadata": {
  "kernelspec": {
   "display_name": "Python 3 (ipykernel)",
   "language": "python",
   "name": "python3"
  },
  "language_info": {
   "codemirror_mode": {
    "name": "ipython",
    "version": 3
   },
   "file_extension": ".py",
   "mimetype": "text/x-python",
   "name": "python",
   "nbconvert_exporter": "python",
   "pygments_lexer": "ipython3",
   "version": "3.11.5"
  }
 },
 "nbformat": 4,
 "nbformat_minor": 5
}
